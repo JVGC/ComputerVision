{
 "cells": [
  {
   "cell_type": "code",
   "execution_count": 1,
   "metadata": {},
   "outputs": [
    {
     "data": {
      "text/html": [
       "<script type=\"text/javascript\">window.PlotlyConfig = {MathJaxConfig: 'local'};</script><script type=\"text/javascript\">if (window.MathJax) {MathJax.Hub.Config({SVG: {font: \"STIX-Web\"}});}</script><script>requirejs.config({paths: { 'plotly': ['https://cdn.plot.ly/plotly-latest.min']},});if(!window._Plotly) {require(['plotly'],function(plotly) {window._Plotly=plotly;});}</script>"
      ],
      "text/vnd.plotly.v1+html": [
       "<script type=\"text/javascript\">window.PlotlyConfig = {MathJaxConfig: 'local'};</script><script type=\"text/javascript\">if (window.MathJax) {MathJax.Hub.Config({SVG: {font: \"STIX-Web\"}});}</script><script>requirejs.config({paths: { 'plotly': ['https://cdn.plot.ly/plotly-latest.min']},});if(!window._Plotly) {require(['plotly'],function(plotly) {window._Plotly=plotly;});}</script>"
      ]
     },
     "metadata": {},
     "output_type": "display_data"
    }
   ],
   "source": [
    "import plotly\n",
    "import plotly.plotly as py\n",
    "import plotly.graph_objs as go\n",
    "from plotly.grid_objs import Column, Grid\n",
    "\n",
    "from datetime import datetime as dt\n",
    "import numpy as np\n",
    "from IPython.display import Image\n",
    "\n",
    "plotly.offline.init_notebook_mode(connected=True)"
   ]
  },
  {
   "cell_type": "code",
   "execution_count": 2,
   "metadata": {},
   "outputs": [
    {
     "data": {
      "application/vnd.plotly.v1+json": {
       "config": {
        "linkText": "Export to plot.ly",
        "plotlyServerURL": "https://plot.ly",
        "showLink": false
       },
       "data": [
        {
         "type": "scatter",
         "uid": "f3064469-175d-4d8b-ad9f-046ec2d68855",
         "x": [
          1,
          2,
          3,
          4
         ],
         "y": [
          4,
          3,
          2,
          1
         ]
        }
       ],
       "layout": {
        "title": {
         "text": "hello world"
        }
       }
      },
      "text/html": [
       "<div id=\"1c7810e8-1429-4d5e-a069-aa8e0cd660bd\" style=\"height: 525px; width: 100%;\" class=\"plotly-graph-div\"></div><script type=\"text/javascript\">require([\"plotly\"], function(Plotly) { window.PLOTLYENV=window.PLOTLYENV || {};window.PLOTLYENV.BASE_URL=\"https://plot.ly\";Plotly.newPlot(\"1c7810e8-1429-4d5e-a069-aa8e0cd660bd\", [{\"x\": [1, 2, 3, 4], \"y\": [4, 3, 2, 1], \"type\": \"scatter\", \"uid\": \"ad3780b6-d6a9-4cda-9006-59f15e599e14\"}], {\"title\": {\"text\": \"hello world\"}}, {\"showLink\": false, \"linkText\": \"Export to plot.ly\", \"plotlyServerURL\": \"https://plot.ly\"})});</script><script type=\"text/javascript\">window.addEventListener(\"resize\", function(){window._Plotly.Plots.resize(document.getElementById(\"1c7810e8-1429-4d5e-a069-aa8e0cd660bd\"));});</script>"
      ],
      "text/vnd.plotly.v1+html": [
       "<div id=\"1c7810e8-1429-4d5e-a069-aa8e0cd660bd\" style=\"height: 525px; width: 100%;\" class=\"plotly-graph-div\"></div><script type=\"text/javascript\">require([\"plotly\"], function(Plotly) { window.PLOTLYENV=window.PLOTLYENV || {};window.PLOTLYENV.BASE_URL=\"https://plot.ly\";Plotly.newPlot(\"1c7810e8-1429-4d5e-a069-aa8e0cd660bd\", [{\"x\": [1, 2, 3, 4], \"y\": [4, 3, 2, 1], \"type\": \"scatter\", \"uid\": \"ad3780b6-d6a9-4cda-9006-59f15e599e14\"}], {\"title\": {\"text\": \"hello world\"}}, {\"showLink\": false, \"linkText\": \"Export to plot.ly\", \"plotlyServerURL\": \"https://plot.ly\"})});</script><script type=\"text/javascript\">window.addEventListener(\"resize\", function(){window._Plotly.Plots.resize(document.getElementById(\"1c7810e8-1429-4d5e-a069-aa8e0cd660bd\"));});</script>"
      ]
     },
     "metadata": {},
     "output_type": "display_data"
    }
   ],
   "source": [
    "plotly.offline.iplot({\n",
    "    \"data\": [go.Scatter(x=[1, 2, 3, 4], y=[4, 3, 2, 1])],\n",
    "    \"layout\": go.Layout(title=\"hello world\")\n",
    "})"
   ]
  },
  {
   "cell_type": "code",
   "execution_count": 3,
   "metadata": {},
   "outputs": [
    {
     "name": "stdout",
     "output_type": "stream",
     "text": [
      "['Running', 'demo', 'for', '*bbox*', 'results.']\n"
     ]
    }
   ],
   "source": [
    "lite = open('./ssdlite_mobilenet_v2_coco_2018_05_09/out.txt').readline().strip().split(\" \")\n",
    "print(lite)"
   ]
  },
  {
   "cell_type": "code",
   "execution_count": 29,
   "metadata": {},
   "outputs": [
    {
     "data": {
      "application/vnd.plotly.v1+json": {
       "config": {
        "linkText": "Export to plot.ly",
        "plotlyServerURL": "https://plot.ly",
        "showLink": false
       },
       "data": [
        {
         "cells": {
          "values": [
           [
            "AP IoU=0.50:0.95",
            "AP IoU=0.50",
            "AP IoU=0.75",
            "AP small",
            "AP medium",
            "AP large",
            "AR max = 1",
            "AR max = 10",
            "AR max = 100",
            "AR small",
            "AR medium",
            "AR large",
            "Tempo de Inferência Medio (em segundos)"
           ],
           [
            0.307,
            0.472,
            0.325,
            0.042,
            0.258,
            0.653,
            0.27,
            0.384,
            0.399,
            0.086,
            0.397,
            0.764,
            0.21468
           ],
           [
            0.271,
            0.427,
            0.29,
            0.035,
            0.223,
            0.595,
            0.248,
            0.349,
            0.364,
            0.069,
            0.354,
            0.72,
            0.085063
           ]
          ]
         },
         "header": {
          "values": [
           "",
           "SSD Inception",
           "SSDlite"
          ]
         },
         "name": "ola",
         "showlegend": true,
         "type": "table",
         "uid": "5ff59b09-99a8-4fb6-8f74-ed9f259d3255"
        }
       ],
       "layout": {}
      },
      "text/html": [
       "<div id=\"d9847ae8-bac9-4d37-9e6a-8ddc6da237bb\" style=\"height: 525px; width: 100%;\" class=\"plotly-graph-div\"></div><script type=\"text/javascript\">require([\"plotly\"], function(Plotly) { window.PLOTLYENV=window.PLOTLYENV || {};window.PLOTLYENV.BASE_URL=\"https://plot.ly\";Plotly.newPlot(\"d9847ae8-bac9-4d37-9e6a-8ddc6da237bb\", [{\"cells\": {\"values\": [[\"AP IoU=0.50:0.95\", \"AP IoU=0.50\", \"AP IoU=0.75\", \"AP small\", \"AP medium\", \"AP large\", \"AR max = 1\", \"AR max = 10\", \"AR max = 100\", \"AR small\", \"AR medium\", \"AR large\", \"Tempo de Infer\\u00eancia Medio (em segundos)\"], [0.307, 0.472, 0.325, 0.042, 0.258, 0.653, 0.27, 0.384, 0.399, 0.086, 0.397, 0.764, 0.21468], [0.271, 0.427, 0.29, 0.035, 0.223, 0.595, 0.248, 0.349, 0.364, 0.069, 0.354, 0.72, 0.085063]]}, \"header\": {\"values\": [\"\", \"SSD Inception\", \"SSDlite\"]}, \"name\": \"ola\", \"showlegend\": true, \"type\": \"table\", \"uid\": \"1a40cba4-3b62-4468-9fa6-d23b80e94890\"}], {}, {\"showLink\": false, \"linkText\": \"Export to plot.ly\", \"plotlyServerURL\": \"https://plot.ly\"})});</script><script type=\"text/javascript\">window.addEventListener(\"resize\", function(){window._Plotly.Plots.resize(document.getElementById(\"d9847ae8-bac9-4d37-9e6a-8ddc6da237bb\"));});</script>"
      ],
      "text/vnd.plotly.v1+html": [
       "<div id=\"d9847ae8-bac9-4d37-9e6a-8ddc6da237bb\" style=\"height: 525px; width: 100%;\" class=\"plotly-graph-div\"></div><script type=\"text/javascript\">require([\"plotly\"], function(Plotly) { window.PLOTLYENV=window.PLOTLYENV || {};window.PLOTLYENV.BASE_URL=\"https://plot.ly\";Plotly.newPlot(\"d9847ae8-bac9-4d37-9e6a-8ddc6da237bb\", [{\"cells\": {\"values\": [[\"AP IoU=0.50:0.95\", \"AP IoU=0.50\", \"AP IoU=0.75\", \"AP small\", \"AP medium\", \"AP large\", \"AR max = 1\", \"AR max = 10\", \"AR max = 100\", \"AR small\", \"AR medium\", \"AR large\", \"Tempo de Infer\\u00eancia Medio (em segundos)\"], [0.307, 0.472, 0.325, 0.042, 0.258, 0.653, 0.27, 0.384, 0.399, 0.086, 0.397, 0.764, 0.21468], [0.271, 0.427, 0.29, 0.035, 0.223, 0.595, 0.248, 0.349, 0.364, 0.069, 0.354, 0.72, 0.085063]]}, \"header\": {\"values\": [\"\", \"SSD Inception\", \"SSDlite\"]}, \"name\": \"ola\", \"showlegend\": true, \"type\": \"table\", \"uid\": \"1a40cba4-3b62-4468-9fa6-d23b80e94890\"}], {}, {\"showLink\": false, \"linkText\": \"Export to plot.ly\", \"plotlyServerURL\": \"https://plot.ly\"})});</script><script type=\"text/javascript\">window.addEventListener(\"resize\", function(){window._Plotly.Plots.resize(document.getElementById(\"d9847ae8-bac9-4d37-9e6a-8ddc6da237bb\"));});</script>"
      ]
     },
     "metadata": {},
     "output_type": "display_data"
    }
   ],
   "source": [
    "trace = go.Table(\n",
    "    header=dict(values = ['', 'SSD Inception','SSDlite']),\n",
    "    cells=dict(values=[['AP IoU=0.50:0.95', 'AP IoU=0.50', 'AP IoU=0.75', 'AP small', 'AP medium', 'AP large',\n",
    "                       'AR max = 1', 'AR max = 10', 'AR max = 100', 'AR small', 'AR medium', 'AR large', 'Tempo de Inferência Medio (em segundos)'],\n",
    "                       [0.307, 0.472, 0.325, 0.042, 0.258, 0.653, 0.270, 0.384, 0.399, 0.086, 0.397, 0.764, 0.21468],\n",
    "                       [0.271, 0.427, 0.290, 0.035, 0.223, 0.595, 0.248, 0.349, 0.364, 0.069, 0.354, 0.720, 0.085063]]),\n",
    "    name = (\"ola\"),\n",
    "    showlegend = True)\n",
    "\n",
    "data = [trace] \n",
    "plotly.offline.iplot(data)"
   ]
  },
  {
   "cell_type": "code",
   "execution_count": null,
   "metadata": {},
   "outputs": [],
   "source": []
  }
 ],
 "metadata": {
  "kernelspec": {
   "display_name": "Python 3",
   "language": "python",
   "name": "python3"
  },
  "language_info": {
   "codemirror_mode": {
    "name": "ipython",
    "version": 3
   },
   "file_extension": ".py",
   "mimetype": "text/x-python",
   "name": "python",
   "nbconvert_exporter": "python",
   "pygments_lexer": "ipython3",
   "version": "3.6.7"
  }
 },
 "nbformat": 4,
 "nbformat_minor": 2
}

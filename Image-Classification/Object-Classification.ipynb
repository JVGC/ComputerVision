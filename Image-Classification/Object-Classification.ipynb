{
 "cells": [
  {
   "cell_type": "code",
   "execution_count": 1,
   "metadata": {},
   "outputs": [],
   "source": [
    "%matplotlib inline"
   ]
  },
  {
   "cell_type": "code",
   "execution_count": 3,
   "metadata": {},
   "outputs": [
    {
     "ename": "SyntaxError",
     "evalue": "invalid syntax (<ipython-input-3-30453feaec80>, line 7)",
     "output_type": "error",
     "traceback": [
      "\u001b[0;36m  File \u001b[0;32m\"<ipython-input-3-30453feaec80>\"\u001b[0;36m, line \u001b[0;32m7\u001b[0m\n\u001b[0;31m    cv2.waitKey(1)?\u001b[0m\n\u001b[0m                  ^\u001b[0m\n\u001b[0;31mSyntaxError\u001b[0m\u001b[0;31m:\u001b[0m invalid syntax\n"
     ]
    }
   ],
   "source": [
    "# import the necessary packages\n",
    "import numpy as np\n",
    "import argparse\n",
    "import time\n",
    "import cv2\n",
    "\n",
    "cv2.waitKey(1)"
   ]
  },
  {
   "cell_type": "code",
   "execution_count": null,
   "metadata": {},
   "outputs": [],
   "source": [
    "# load the input image from disk\n",
    "image = cv2.imread(\"images/dog1.jpg\")"
   ]
  },
  {
   "cell_type": "code",
   "execution_count": 4,
   "metadata": {},
   "outputs": [],
   "source": [
    " \n",
    "# load the class labels from disk\n",
    "rows = open(\"synset_words.txt\").read().strip().split(\"\\n\")\n",
    "classes = [r[r.find(\" \") + 1:].split(\",\")[0] for r in rows]"
   ]
  },
  {
   "cell_type": "code",
   "execution_count": 14,
   "metadata": {},
   "outputs": [],
   "source": [
    "# our CNN requires fixed spatial dimensions for our input image(s)\n",
    "# so we need to ensure it is resized to 224x224 pixels while\n",
    "# performing mean subtraction (104, 117, 123) to normalize the input;\n",
    "# after executing this command our \"blob\" now has the shape:\n",
    "# (1, 3, 224, 224)\n",
    "blob = cv2.dnn.blobFromImage(image, 1, (224, 224), (104, 117, 123))"
   ]
  },
  {
   "cell_type": "code",
   "execution_count": 15,
   "metadata": {},
   "outputs": [
    {
     "name": "stdout",
     "output_type": "stream",
     "text": [
      "[INFO] loading model...\n"
     ]
    }
   ],
   "source": [
    "# load our serialized model from disk\n",
    "print(\"[INFO] loading model...\")\n",
    "net = cv2.dnn.readNetFromCaffe(\"bvlc_googlenet.prototxt\", \"bvlc_googlenet.caffemodel\")"
   ]
  },
  {
   "cell_type": "code",
   "execution_count": 16,
   "metadata": {},
   "outputs": [
    {
     "name": "stdout",
     "output_type": "stream",
     "text": [
      "[INFO] classification took 0.39227 seconds\n"
     ]
    }
   ],
   "source": [
    "# set the blob as input to the network and perform a forward-pass to\n",
    "# obtain our output classification\n",
    "net.setInput(blob)\n",
    "start = time.time()\n",
    "preds = net.forward()\n",
    "end = time.time()\n",
    "print(\"[INFO] classification took {:.5} seconds\".format(end - start))"
   ]
  },
  {
   "cell_type": "code",
   "execution_count": 17,
   "metadata": {},
   "outputs": [],
   "source": [
    "# sort the indexes of the probabilities in descending order (higher\n",
    "# probabilitiy first) and grab the top-5 predictions\n",
    "idxs = np.argsort(preds[0])[::-1][:5]"
   ]
  },
  {
   "cell_type": "code",
   "execution_count": null,
   "metadata": {},
   "outputs": [
    {
     "name": "stdout",
     "output_type": "stream",
     "text": [
      "[INFO] 1. label: chow, probability: 0.42363\n",
      "[INFO] 2. label: Eskimo dog, probability: 0.065949\n",
      "[INFO] 3. label: tiger cat, probability: 0.059519\n",
      "[INFO] 4. label: tabby, probability: 0.051039\n",
      "[INFO] 5. label: lion, probability: 0.042727\n"
     ]
    }
   ],
   "source": [
    "# loop over the top-5 predictions and display them\n",
    "for (i, idx) in enumerate(idxs):\n",
    "    # draw the top prediction on the input image\n",
    "    if i == 0:\n",
    "        text = \"Label: {}, {:.2f}%\".format(classes[idx],\n",
    "            preds[0][idx] * 100)\n",
    "        cv2.putText(image, text, (5, 25),  cv2.FONT_HERSHEY_SIMPLEX,\n",
    "            0.7, (0, 0, 255), 2)\n",
    " \n",
    "    # display the predicted label + associated probability to the\n",
    "    # console\t\n",
    "    print(\"[INFO] {}. label: {}, probability: {:.5}\".format(i + 1,\n",
    "    classes[idx], preds[0][idx]))\n",
    " \n",
    "# display the output image\n",
    "cv2.imshow(\"Image\", image)\n",
    "cv2.waitKey(0)"
   ]
  },
  {
   "cell_type": "code",
   "execution_count": null,
   "metadata": {},
   "outputs": [],
   "source": []
  },
  {
   "cell_type": "code",
   "execution_count": null,
   "metadata": {},
   "outputs": [],
   "source": []
  }
 ],
 "metadata": {
  "kernelspec": {
   "display_name": "Python 3",
   "language": "python",
   "name": "python3"
  },
  "language_info": {
   "codemirror_mode": {
    "name": "ipython",
    "version": 3
   },
   "file_extension": ".py",
   "mimetype": "text/x-python",
   "name": "python",
   "nbconvert_exporter": "python",
   "pygments_lexer": "ipython3",
   "version": "3.6.7"
  }
 },
 "nbformat": 4,
 "nbformat_minor": 2
}
